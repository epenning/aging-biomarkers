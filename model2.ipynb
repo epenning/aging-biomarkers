{
 "cells": [
  {
   "cell_type": "code",
   "execution_count": 48,
   "metadata": {},
   "outputs": [
    {
     "data": {
      "text/html": [
       "<div>\n",
       "<style scoped>\n",
       "    .dataframe tbody tr th:only-of-type {\n",
       "        vertical-align: middle;\n",
       "    }\n",
       "\n",
       "    .dataframe tbody tr th {\n",
       "        vertical-align: top;\n",
       "    }\n",
       "\n",
       "    .dataframe thead th {\n",
       "        text-align: right;\n",
       "    }\n",
       "</style>\n",
       "<table border=\"1\" class=\"dataframe\">\n",
       "  <thead>\n",
       "    <tr style=\"text-align: right;\">\n",
       "      <th></th>\n",
       "      <th>ID</th>\n",
       "      <th>Albumin</th>\n",
       "      <th>Blood_Urea_Nitrogen</th>\n",
       "      <th>Creatinine</th>\n",
       "      <th>C_Reactive_Protein</th>\n",
       "      <th>Glucose</th>\n",
       "      <th>Glycohemoglobin</th>\n",
       "      <th>Total_Cholesterol</th>\n",
       "      <th>Uric_Acid</th>\n",
       "      <th>White_Blood_Cell_Count</th>\n",
       "      <th>Lymphocyte_Percent</th>\n",
       "      <th>Mean_Cell_Volume</th>\n",
       "      <th>Red_Cell_Distribution_Width</th>\n",
       "      <th>Systolic_Blood_Pressure</th>\n",
       "      <th>Age</th>\n",
       "    </tr>\n",
       "  </thead>\n",
       "  <tbody>\n",
       "    <tr>\n",
       "      <th>0</th>\n",
       "      <td>93705.0</td>\n",
       "      <td>4.4</td>\n",
       "      <td>11</td>\n",
       "      <td>0.92</td>\n",
       "      <td>2.72</td>\n",
       "      <td>85</td>\n",
       "      <td>6.2</td>\n",
       "      <td>157</td>\n",
       "      <td>5.8</td>\n",
       "      <td>8.6</td>\n",
       "      <td>40.0</td>\n",
       "      <td>67.0</td>\n",
       "      <td>15.6</td>\n",
       "      <td>200.000000</td>\n",
       "      <td>66</td>\n",
       "    </tr>\n",
       "    <tr>\n",
       "      <th>1</th>\n",
       "      <td>93706.0</td>\n",
       "      <td>4.4</td>\n",
       "      <td>12</td>\n",
       "      <td>0.81</td>\n",
       "      <td>0.74</td>\n",
       "      <td>94</td>\n",
       "      <td>5.2</td>\n",
       "      <td>149</td>\n",
       "      <td>8.0</td>\n",
       "      <td>6.1</td>\n",
       "      <td>24.6</td>\n",
       "      <td>89.7</td>\n",
       "      <td>12.2</td>\n",
       "      <td>111.333333</td>\n",
       "      <td>18</td>\n",
       "    </tr>\n",
       "    <tr>\n",
       "      <th>2</th>\n",
       "      <td>93707.0</td>\n",
       "      <td>5.2</td>\n",
       "      <td>17</td>\n",
       "      <td>0.64</td>\n",
       "      <td>0.32</td>\n",
       "      <td>115</td>\n",
       "      <td>5.6</td>\n",
       "      <td>199</td>\n",
       "      <td>5.5</td>\n",
       "      <td>11.2</td>\n",
       "      <td>37.1</td>\n",
       "      <td>83.9</td>\n",
       "      <td>13.6</td>\n",
       "      <td>128.000000</td>\n",
       "      <td>13</td>\n",
       "    </tr>\n",
       "    <tr>\n",
       "      <th>3</th>\n",
       "      <td>93708.0</td>\n",
       "      <td>3.9</td>\n",
       "      <td>16</td>\n",
       "      <td>0.58</td>\n",
       "      <td>1.83</td>\n",
       "      <td>116</td>\n",
       "      <td>6.2</td>\n",
       "      <td>210</td>\n",
       "      <td>4.5</td>\n",
       "      <td>6.0</td>\n",
       "      <td>31.3</td>\n",
       "      <td>86.8</td>\n",
       "      <td>13.4</td>\n",
       "      <td>142.000000</td>\n",
       "      <td>66</td>\n",
       "    </tr>\n",
       "    <tr>\n",
       "      <th>4</th>\n",
       "      <td>93709.0</td>\n",
       "      <td>3.7</td>\n",
       "      <td>20</td>\n",
       "      <td>1.32</td>\n",
       "      <td>6.94</td>\n",
       "      <td>96</td>\n",
       "      <td>6.3</td>\n",
       "      <td>180</td>\n",
       "      <td>6.2</td>\n",
       "      <td>7.2</td>\n",
       "      <td>25.8</td>\n",
       "      <td>88.8</td>\n",
       "      <td>15.7</td>\n",
       "      <td>118.666667</td>\n",
       "      <td>75</td>\n",
       "    </tr>\n",
       "  </tbody>\n",
       "</table>\n",
       "</div>"
      ],
      "text/plain": [
       "        ID  Albumin  Blood_Urea_Nitrogen  Creatinine  C_Reactive_Protein  \\\n",
       "0  93705.0      4.4                   11        0.92                2.72   \n",
       "1  93706.0      4.4                   12        0.81                0.74   \n",
       "2  93707.0      5.2                   17        0.64                0.32   \n",
       "3  93708.0      3.9                   16        0.58                1.83   \n",
       "4  93709.0      3.7                   20        1.32                6.94   \n",
       "\n",
       "   Glucose  Glycohemoglobin  Total_Cholesterol  Uric_Acid  \\\n",
       "0       85              6.2                157        5.8   \n",
       "1       94              5.2                149        8.0   \n",
       "2      115              5.6                199        5.5   \n",
       "3      116              6.2                210        4.5   \n",
       "4       96              6.3                180        6.2   \n",
       "\n",
       "   White_Blood_Cell_Count  Lymphocyte_Percent  Mean_Cell_Volume  \\\n",
       "0                     8.6                40.0              67.0   \n",
       "1                     6.1                24.6              89.7   \n",
       "2                    11.2                37.1              83.9   \n",
       "3                     6.0                31.3              86.8   \n",
       "4                     7.2                25.8              88.8   \n",
       "\n",
       "   Red_Cell_Distribution_Width  Systolic_Blood_Pressure  Age  \n",
       "0                         15.6               200.000000   66  \n",
       "1                         12.2               111.333333   18  \n",
       "2                         13.6               128.000000   13  \n",
       "3                         13.4               142.000000   66  \n",
       "4                         15.7               118.666667   75  "
      ]
     },
     "execution_count": 48,
     "metadata": {},
     "output_type": "execute_result"
    }
   ],
   "source": [
    "## for data\n",
    "import pandas as pd\n",
    "import numpy as np\n",
    "## for plotting\n",
    "import matplotlib.pyplot as plt\n",
    "import seaborn as sns\n",
    "## for statistical tests\n",
    "import scipy\n",
    "import statsmodels.formula.api as smf\n",
    "import statsmodels.api as sm\n",
    "## for machine learning\n",
    "from sklearn import model_selection, preprocessing, feature_selection, ensemble, linear_model, metrics, decomposition\n",
    "## for explainer\n",
    "#from line import line_tabular\n",
    "\n",
    "\n",
    "# Using Skicit-learn to split data into training and testing sets\n",
    "from sklearn.model_selection import train_test_split\n",
    "\n",
    "nhanes = pd.read_csv('nhanes_data.csv')\n",
    "\n",
    "nhanes = nhanes.drop(nhanes.columns[0], axis=1)\n",
    "nhanes = nhanes.drop(nhanes.columns[15], axis=1)\n",
    "nhanes.head()    \n"
   ]
  },
  {
   "cell_type": "code",
   "execution_count": 54,
   "metadata": {},
   "outputs": [
    {
     "name": "stdout",
     "output_type": "stream",
     "text": [
      "Training Features Shape: (3938, 15)\n",
      "Training Labels Shape: (3938,)\n",
      "Testing Features Shape: (1313, 15)\n",
      "Testing Labels Shape: (1313,)\n"
     ]
    }
   ],
   "source": [
    "# Labels are the values we want to predict\n",
    "labels = np.array(nhanes['Age'])\n",
    "\n",
    "# Saving feature names for later use\n",
    "feature_list = list(nhanes.columns)\n",
    "# Convert to numpy array\n",
    "features = np.array(nhanes)\n",
    "\n",
    "# Split the data into training and testing sets\n",
    "train_features, test_features, train_labels, test_labels = train_test_split(features, labels, test_size = 0.25, random_state = 42)\n",
    "\n",
    "\n",
    "print('Training Features Shape:', train_features.shape)\n",
    "print('Training Labels Shape:', train_labels.shape)\n",
    "print('Testing Features Shape:', test_features.shape)\n",
    "print('Testing Labels Shape:', test_labels.shape)\n"
   ]
  },
  {
   "cell_type": "code",
   "execution_count": null,
   "metadata": {},
   "outputs": [],
   "source": [
    "##### SKIP WHEN RUN CODE.  DID NOT INCLUDE THIS.  NOT SURE HOW TO MODIFY FOR OUR DATA\n",
    "\n",
    "# The baseline predictions are the historical averages\n",
    "baseline_preds = test_features[:, feature_list.index('average')]\n",
    "# Baseline errors, and display average baseline error\n",
    "baseline_errors = abs(baseline_preds - test_labels)\n",
    "print('Average baseline error: ', round(np.mean(baseline_errors), 2))\n",
    "Average baseline error:  5.06 degrees."
   ]
  },
  {
   "cell_type": "code",
   "execution_count": 55,
   "metadata": {},
   "outputs": [
    {
     "data": {
      "text/plain": [
       "RandomForestRegressor(n_estimators=1000, random_state=42)"
      ]
     },
     "execution_count": 55,
     "metadata": {},
     "output_type": "execute_result"
    }
   ],
   "source": [
    "# Import the model we are using\n",
    "from sklearn.ensemble import RandomForestRegressor\n",
    "# Instantiate model with 1000 decision trees\n",
    "rf = RandomForestRegressor(n_estimators = 1000, random_state = 42)\n",
    "# Train the model on training data\n",
    "rf.fit(train_features, train_labels)"
   ]
  },
  {
   "cell_type": "code",
   "execution_count": 56,
   "metadata": {},
   "outputs": [
    {
     "name": "stdout",
     "output_type": "stream",
     "text": [
      "Mean Absolute Error: 0.0 years.\n"
     ]
    }
   ],
   "source": [
    "# Use the forest's predict method on the test data\n",
    "predictions = rf.predict(test_features)\n",
    "# Calculate the absolute errors\n",
    "errors = abs(predictions - test_labels)\n",
    "# Print out the mean absolute error (mae)\n",
    "print('Mean Absolute Error:', round(np.mean(errors), 2), 'years.')"
   ]
  },
  {
   "cell_type": "code",
   "execution_count": 57,
   "metadata": {},
   "outputs": [
    {
     "name": "stdout",
     "output_type": "stream",
     "text": [
      "Accuracy: 100.0 %.\n"
     ]
    }
   ],
   "source": [
    "# Calculate mean absolute percentage error (MAPE)\n",
    "mape = 100 * (errors / test_labels)\n",
    "# Calculate and display accuracy\n",
    "accuracy = 100 - np.mean(mape)\n",
    "print('Accuracy:', round(accuracy, 2), '%.')\n"
   ]
  }
 ],
 "metadata": {
  "kernelspec": {
   "display_name": "Python 3",
   "language": "python",
   "name": "python3"
  },
  "language_info": {
   "codemirror_mode": {
    "name": "ipython",
    "version": 3
   },
   "file_extension": ".py",
   "mimetype": "text/x-python",
   "name": "python",
   "nbconvert_exporter": "python",
   "pygments_lexer": "ipython3",
   "version": "3.6.9"
  }
 },
 "nbformat": 4,
 "nbformat_minor": 4
}
